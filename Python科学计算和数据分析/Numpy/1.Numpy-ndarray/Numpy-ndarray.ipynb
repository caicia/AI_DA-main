{
 "cells": [
  {
   "cell_type": "code",
   "execution_count": 1,
   "metadata": {
    "collapsed": true
   },
   "outputs": [
    {
     "data": {
      "text/plain": "'1.24.2'"
     },
     "execution_count": 1,
     "metadata": {},
     "output_type": "execute_result"
    }
   ],
   "source": [
    "import numpy as np\n",
    "np.__version__"
   ]
  },
  {
   "cell_type": "code",
   "execution_count": 4,
   "outputs": [
    {
     "name": "stdout",
     "output_type": "stream",
     "text": [
      "[1 2 3]\n",
      "int32\n",
      "[[1 2]\n",
      " [3 4]]\n",
      "int32\n"
     ]
    }
   ],
   "source": [
    "arr1 = np.array([1, 2, 3])\n",
    "arr2 = np.array([[1, 2], [3, 4]])\n",
    "print(arr1)\n",
    "print(arr1.dtype)\n",
    "print(arr2)\n",
    "print(arr2.dtype)"
   ],
   "metadata": {
    "collapsed": false
   }
  },
  {
   "cell_type": "code",
   "execution_count": 5,
   "outputs": [
    {
     "name": "stdout",
     "output_type": "stream",
     "text": [
      "[1 2 3]\n",
      "int8\n",
      "[1. 2. 3.]\n",
      "float16\n"
     ]
    }
   ],
   "source": [
    "arr1 = np.array([1, 2, 3], np.int8)\n",
    "arr2 = np.array([1, 2, 3], dtype=np.float16)\n",
    "print(arr1)\n",
    "print(arr1.dtype)\n",
    "print(arr2)\n",
    "print(arr2.dtype)"
   ],
   "metadata": {
    "collapsed": false
   }
  },
  {
   "cell_type": "code",
   "execution_count": 9,
   "outputs": [
    {
     "name": "stdout",
     "output_type": "stream",
     "text": [
      "[1.33590063e-311 1.33590063e-311]\n",
      "[[2.12199579e-314 1.33473535e-311]\n",
      " [2.88534337e-321 1.33473535e-311]]\n",
      "\n",
      "[0. 0.]\n",
      "[[0. 0.]\n",
      " [0. 0.]]\n",
      "\n",
      "[1. 1.]\n",
      "[[1. 1.]\n",
      " [1. 1.]]\n"
     ]
    }
   ],
   "source": [
    "print(np.empty(2))\n",
    "print(np.empty((2, 2)))\n",
    "print()\n",
    "\n",
    "print(np.zeros(2))\n",
    "print(np.zeros((2, 2)))\n",
    "print()\n",
    "\n",
    "print(np.ones(2))\n",
    "print(np.ones((2, 2)))"
   ],
   "metadata": {
    "collapsed": false
   }
  },
  {
   "cell_type": "code",
   "execution_count": 13,
   "outputs": [
    {
     "name": "stdout",
     "output_type": "stream",
     "text": [
      "[2 2]\n",
      "[[2 2]\n",
      " [2 2]]\n",
      "\n",
      "[[1. 0.]\n",
      " [0. 1.]]\n",
      "\n",
      "[[1. 0.]\n",
      " [0. 1.]]\n",
      "[[1. 0.]\n",
      " [0. 1.]]\n",
      "[[1. 0. 0.]\n",
      " [0. 1. 0.]\n",
      " [0. 0. 1.]\n",
      " [0. 0. 0.]]\n"
     ]
    }
   ],
   "source": [
    "print(np.full(2, 2))\n",
    "print(np.full((2, 2), 2))\n",
    "print()\n",
    "\n",
    "print(np.identity(2))\n",
    "print()\n",
    "\n",
    "print(np.eye(2))\n",
    "print(np.eye(2, 2))\n",
    "print(np.eye(4, 3))"
   ],
   "metadata": {
    "collapsed": false
   }
  },
  {
   "cell_type": "code",
   "execution_count": 24,
   "outputs": [
    {
     "name": "stdout",
     "output_type": "stream",
     "text": [
      "[1 2 3 4]\n",
      "[ 0.   2.5  5.   7.5 10. ]\n",
      "[  1.  10. 100.]\n",
      "[  1.  10. 100.]\n"
     ]
    }
   ],
   "source": [
    "print(np.arange(1, 5))\n",
    "print(np.linspace(0, 10, 5))\n",
    "print(np.logspace(0, 2, 3))\n",
    "print(np.geomspace(1, 100, 3))"
   ],
   "metadata": {
    "collapsed": false
   }
  },
  {
   "cell_type": "code",
   "execution_count": 32,
   "outputs": [
    {
     "name": "stdout",
     "output_type": "stream",
     "text": [
      "[97 98 99]\n",
      "[b'a' b'b' b'c']\n",
      "[b'ab' b'cd']\n",
      "['\\U64636261\\U64636261']\n"
     ]
    },
    {
     "name": "stderr",
     "output_type": "stream",
     "text": [
      "C:\\Users\\Administrator\\AppData\\Local\\Temp\\ipykernel_11948\\2565437813.py:1: DeprecationWarning: The binary mode of fromstring is deprecated, as it behaves surprisingly on unicode inputs. Use frombuffer instead\n",
      "  print(np.fromstring('abc', dtype=np.int8))\n",
      "C:\\Users\\Administrator\\AppData\\Local\\Temp\\ipykernel_11948\\2565437813.py:2: DeprecationWarning: The binary mode of fromstring is deprecated, as it behaves surprisingly on unicode inputs. Use frombuffer instead\n",
      "  print(np.fromstring('abc', dtype='S1'))\n",
      "C:\\Users\\Administrator\\AppData\\Local\\Temp\\ipykernel_11948\\2565437813.py:3: DeprecationWarning: The binary mode of fromstring is deprecated, as it behaves surprisingly on unicode inputs. Use frombuffer instead\n",
      "  print(np.fromstring('abcd', dtype='S2'))\n",
      "C:\\Users\\Administrator\\AppData\\Local\\Temp\\ipykernel_11948\\2565437813.py:4: DeprecationWarning: The binary mode of fromstring is deprecated, as it behaves surprisingly on unicode inputs. Use frombuffer instead\n",
      "  print(np.fromstring('abcdabcd', dtype='U2'))\n"
     ]
    }
   ],
   "source": [
    "print(np.fromstring('abc', dtype=np.int8))\n",
    "print(np.fromstring('abc', dtype='S1'))\n",
    "print(np.fromstring('abcd', dtype='S2'))\n",
    "print(np.fromstring('abcdabcd', dtype='U2'))"
   ],
   "metadata": {
    "collapsed": false
   }
  },
  {
   "cell_type": "code",
   "execution_count": 45,
   "outputs": [
    {
     "name": "stdout",
     "output_type": "stream",
     "text": [
      "[3.83546108e+175]\n",
      "[ 97  98  99 100]\n",
      "[b'a' b'b' b'c']\n",
      "[0 1 2 3 4]\n",
      "[0. 1.]\n",
      "[[0. 0.]\n",
      " [1. 1.]]\n"
     ]
    }
   ],
   "source": [
    "print(np.frombuffer(b'abcdabcd'))\n",
    "print(np.frombuffer(bytes('abcd', encoding='utf8'), dtype=np.int8))\n",
    "print(np.frombuffer(bytes('abc', encoding='utf8'), dtype='S1', count=3, offset=0))\n",
    "print(np.fromiter(range(5), np.int8))\n",
    "print(np.fromfunction(np.abs, (2,)))\n",
    "print(np.fromfunction(np.abs, (2,2)))"
   ],
   "metadata": {
    "collapsed": false
   }
  },
  {
   "cell_type": "code",
   "execution_count": null,
   "outputs": [],
   "source": [
    "print(np.loadtxt('a.txt'))"
   ],
   "metadata": {
    "collapsed": false
   }
  },
  {
   "cell_type": "code",
   "execution_count": 46,
   "outputs": [
    {
     "name": "stdout",
     "output_type": "stream",
     "text": [
      "(3,)\n",
      "3\n",
      "int8\n"
     ]
    }
   ],
   "source": [
    "print(arr1.shape)\n",
    "print(arr1.size)\n",
    "print(arr1.dtype)"
   ],
   "metadata": {
    "collapsed": false
   }
  },
  {
   "cell_type": "code",
   "execution_count": 47,
   "outputs": [
    {
     "name": "stdout",
     "output_type": "stream",
     "text": [
      "int16\n"
     ]
    }
   ],
   "source": [
    "arr2 = arr1.astype(np.int16)\n",
    "print(arr2.dtype)"
   ],
   "metadata": {
    "collapsed": false
   }
  },
  {
   "cell_type": "code",
   "execution_count": 54,
   "outputs": [
    {
     "name": "stdout",
     "output_type": "stream",
     "text": [
      "[[1 2 3]\n",
      " [4 5 6]]\n",
      "[[1 4]\n",
      " [2 5]\n",
      " [3 6]]\n",
      "[[1 4]\n",
      " [2 5]\n",
      " [3 6]]\n",
      "[1 2 3 4 5 6]\n",
      "[1 2 3 4 5 6]\n"
     ]
    }
   ],
   "source": [
    "arr1 = np.array([[1, 2, 3], [4, 5, 6]], dtype=np.int8)\n",
    "print(arr1)\n",
    "print(arr1.T)\n",
    "print(arr1.transpose())\n",
    "print(arr1.ravel()) # 共享内存\n",
    "print(arr1.flatten()) # 不共享内存"
   ],
   "metadata": {
    "collapsed": false
   }
  },
  {
   "cell_type": "code",
   "execution_count": 56,
   "outputs": [
    {
     "name": "stdout",
     "output_type": "stream",
     "text": [
      "[[1 2]\n",
      " [3 4]\n",
      " [5 6]]\n",
      "[[1 2 5]\n",
      " [3 4 6]]\n",
      "[1 2 3 4 5 6]\n"
     ]
    }
   ],
   "source": [
    "a = np.array([[1, 2], [3, 4]])\n",
    "b = np.array([[5, 6]])\n",
    "print(np.concatenate((a, b), axis=0))\n",
    "print(np.concatenate((a, b.T), axis=1))\n",
    "print(np.concatenate((a, b), axis=None))"
   ],
   "metadata": {
    "collapsed": false
   }
  },
  {
   "cell_type": "code",
   "execution_count": 61,
   "outputs": [
    {
     "name": "stdout",
     "output_type": "stream",
     "text": [
      "[[1 2 3]\n",
      " [4 5 6]]\n",
      "[1 2 3 4 5 6]\n",
      "[[1 4]\n",
      " [2 5]\n",
      " [3 6]]\n",
      "[[[1 4]\n",
      "  [2 5]\n",
      "  [3 6]]]\n"
     ]
    }
   ],
   "source": [
    "a = np.array([1, 2, 3])\n",
    "b = np.array([4, 5, 6])\n",
    "print(np.vstack((a, b)))\n",
    "print(np.hstack((a, b)))\n",
    "print(np.column_stack((a, b)))\n",
    "print(np.dstack((a, b))) # 增加一维"
   ],
   "metadata": {
    "collapsed": false
   }
  },
  {
   "cell_type": "code",
   "execution_count": 68,
   "outputs": [
    {
     "name": "stdout",
     "output_type": "stream",
     "text": [
      "[array([0, 1, 2]), array([3, 4, 5]), array([6, 7, 8])]\n",
      "[array([0, 1, 2]), array([3, 4]), array([5, 6]), array([7, 8])]\n",
      "[[0 1]\n",
      " [2 3]\n",
      " [4 5]\n",
      " [6 7]]\n",
      "[array([[0, 1],\n",
      "       [2, 3]]), array([[4, 5],\n",
      "       [6, 7]])]\n",
      "[array([[0],\n",
      "       [2],\n",
      "       [4],\n",
      "       [6]]), array([[1],\n",
      "       [3],\n",
      "       [5],\n",
      "       [7]])]\n"
     ]
    }
   ],
   "source": [
    "x = np.arange(9)\n",
    "print(np.split(x, 3))\n",
    "print(np.array_split(x, 4))\n",
    "\n",
    "x = np.arange(8).reshape(4, 2)\n",
    "print(x)\n",
    "print(np.vsplit(x, 2))\n",
    "print(np.hsplit(x, 2))"
   ],
   "metadata": {
    "collapsed": false
   }
  }
 ],
 "metadata": {
  "kernelspec": {
   "display_name": "Python 3",
   "language": "python",
   "name": "python3"
  },
  "language_info": {
   "codemirror_mode": {
    "name": "ipython",
    "version": 2
   },
   "file_extension": ".py",
   "mimetype": "text/x-python",
   "name": "python",
   "nbconvert_exporter": "python",
   "pygments_lexer": "ipython2",
   "version": "2.7.6"
  }
 },
 "nbformat": 4,
 "nbformat_minor": 0
}
