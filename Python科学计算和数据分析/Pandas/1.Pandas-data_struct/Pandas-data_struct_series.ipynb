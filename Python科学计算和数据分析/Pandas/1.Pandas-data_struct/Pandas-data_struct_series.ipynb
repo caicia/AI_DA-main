{
 "cells": [
  {
   "cell_type": "code",
   "execution_count": 2,
   "outputs": [
    {
     "name": "stdout",
     "output_type": "stream",
     "text": [
      "2.1.0.dev0+203.g506fe537d7\n"
     ]
    }
   ],
   "source": [
    "import numpy as np\n",
    "import pyarrow\n",
    "# pandas 2.0\n",
    "# pip install --pre --extra-index https://pypi.anaconda.org/scipy-wheels-nightly/simple pandas\n",
    "# pip uninstall pandas -y\n",
    "import pandas as pd\n",
    "print(pd.__version__)\n",
    "pd.options.mode.copy_on_write = True"
   ],
   "metadata": {
    "collapsed": false
   }
  },
  {
   "cell_type": "code",
   "execution_count": 20,
   "outputs": [
    {
     "name": "stdout",
     "output_type": "stream",
     "text": [
      "int64\n",
      "int64[pyarrow]\n",
      "int32\n",
      "int64[pyarrow]\n",
      "int64\n",
      "int64[pyarrow]\n",
      "int64\n",
      "int64[pyarrow]\n",
      "int64\n",
      "int64[pyarrow]\n",
      "\n"
     ]
    }
   ],
   "source": [
    "# 创建\n",
    "s1 = pd.Series([1, 2, 3])\n",
    "s1_1 = pd.Series([1, 2, 3], dtype='int64[pyarrow]')\n",
    "print(s1.dtypes)\n",
    "print(s1_1.dtypes)\n",
    "\n",
    "s2 = pd.Series(np.array([1, 2]))\n",
    "s2_2 = pd.Series(np.array([1, 2]), dtype='int64[pyarrow]')\n",
    "print(s2.dtypes)\n",
    "print(s2_2.dtypes)\n",
    "\n",
    "s3 = pd.Series(5, index=['a', 'b'])\n",
    "s3_3 = pd.Series(5, index=['a', 'b'], dtype='int64[pyarrow]')\n",
    "print(s3.dtypes)\n",
    "print(s3_3.dtypes)\n",
    "\n",
    "s4 = pd.Series({'a': 1, 'b': 2})\n",
    "s4_4 = pd.Series({'a': 1, 'b': 2}, dtype='int64[pyarrow]')\n",
    "print(s4.dtypes)\n",
    "print(s4_4.dtypes)\n",
    "\n",
    "s5 = pd.Series([1, 2, 3], index=['a', 'b', 'c'])\n",
    "s5_5 = pd.Series([1, 2, 3], index=['a', 'b', 'c'], dtype='int64[pyarrow]')\n",
    "print(s5.dtypes)\n",
    "print(s5_5.dtypes)\n",
    "print()\n"
   ],
   "metadata": {
    "collapsed": false
   }
  },
  {
   "cell_type": "code",
   "execution_count": 21,
   "outputs": [
    {
     "name": "stdout",
     "output_type": "stream",
     "text": [
      "False\n",
      "3\n",
      "Index(['a', 'b', 'c'], dtype='object')\n",
      "[1 2 3]\n",
      "None\n",
      "\n"
     ]
    }
   ],
   "source": [
    "# 属性\n",
    "print(s5.empty)\n",
    "print(s5.size)\n",
    "print(s5.index)\n",
    "print(s5.values)\n",
    "print(s5.name)\n",
    "print()"
   ],
   "metadata": {
    "collapsed": false
   }
  },
  {
   "cell_type": "code",
   "execution_count": 22,
   "outputs": [
    {
     "name": "stdout",
     "output_type": "stream",
     "text": [
      "1\n",
      "1\n",
      "1\n",
      "1\n",
      "\n"
     ]
    }
   ],
   "source": [
    "# 索引\n",
    "print(s5[0])\n",
    "print(s5['a'])\n",
    "print(s5.get(0))\n",
    "print(s5.get('a'))\n",
    "print()"
   ],
   "metadata": {
    "collapsed": false
   }
  },
  {
   "cell_type": "code",
   "execution_count": 23,
   "outputs": [
    {
     "name": "stdout",
     "output_type": "stream",
     "text": [
      "a    1\n",
      "b    2\n",
      "dtype: int64\n",
      "a    1\n",
      "b    2\n",
      "c    3\n",
      "dtype: int64\n"
     ]
    }
   ],
   "source": [
    "# 切片\n",
    "print(s5[0:2])\n",
    "print(s5['a':'c'])"
   ],
   "metadata": {
    "collapsed": false
   }
  },
  {
   "cell_type": "code",
   "execution_count": 27,
   "outputs": [
    {
     "name": "stdout",
     "output_type": "stream",
     "text": [
      "a    1\n",
      "b    2\n",
      "c    3\n",
      "dtype: int64\n",
      "a    1\n",
      "c    3\n",
      "dtype: int64\n"
     ]
    }
   ],
   "source": [
    "# 列表索引\n",
    "print(s5[[0, 1, 2]])\n",
    "print(s5[['a', 'c']])"
   ],
   "metadata": {
    "collapsed": false
   }
  },
  {
   "cell_type": "code",
   "execution_count": 28,
   "outputs": [
    {
     "name": "stdout",
     "output_type": "stream",
     "text": [
      "c    3\n",
      "dtype: int64\n"
     ]
    }
   ],
   "source": [
    "# 条件表达式索引\n",
    "print(s5[s5>2])"
   ],
   "metadata": {
    "collapsed": false
   }
  },
  {
   "cell_type": "code",
   "execution_count": 31,
   "outputs": [
    {
     "name": "stdout",
     "output_type": "stream",
     "text": [
      "Index(['a', 'b', 'c'], dtype='object')\n",
      "<zip object at 0x0000023416F8E900>\n",
      "('a', 1)\n",
      "('b', 2)\n",
      "('c', 3)\n"
     ]
    }
   ],
   "source": [
    "# 遍历访问\n",
    "print(s5.keys())\n",
    "print(s5.items())\n",
    "for i in s5.items():\n",
    "    print(i)"
   ],
   "metadata": {
    "collapsed": false
   }
  },
  {
   "cell_type": "code",
   "execution_count": 32,
   "outputs": [
    {
     "name": "stdout",
     "output_type": "stream",
     "text": [
      "a    1\n",
      "b    2\n",
      "c    3\n",
      "dtype: int32\n",
      "a    1\n",
      "b    2\n",
      "c    3\n",
      "dtype: Int64\n",
      "[1 2 3]\n",
      "[1, 2, 3]\n"
     ]
    },
    {
     "ename": "ValueError",
     "evalue": "can only convert an array of size 1 to a Python scalar",
     "output_type": "error",
     "traceback": [
      "\u001B[1;31m---------------------------------------------------------------------------\u001B[0m",
      "\u001B[1;31mValueError\u001B[0m                                Traceback (most recent call last)",
      "Cell \u001B[1;32mIn[32], line 6\u001B[0m\n\u001B[0;32m      4\u001B[0m \u001B[38;5;28mprint\u001B[39m(s5\u001B[38;5;241m.\u001B[39mto_numpy())\n\u001B[0;32m      5\u001B[0m \u001B[38;5;28mprint\u001B[39m(s5\u001B[38;5;241m.\u001B[39mto_list())\n\u001B[1;32m----> 6\u001B[0m \u001B[38;5;28mprint\u001B[39m(\u001B[43ms5\u001B[49m\u001B[38;5;241;43m.\u001B[39;49m\u001B[43mitem\u001B[49m\u001B[43m(\u001B[49m\u001B[43m)\u001B[49m)\n",
      "File \u001B[1;32mD:\\anaconda\\envs\\ml-3.11\\Lib\\site-packages\\pandas\\core\\base.py:372\u001B[0m, in \u001B[0;36mIndexOpsMixin.item\u001B[1;34m(self)\u001B[0m\n\u001B[0;32m    370\u001B[0m \u001B[38;5;28;01mif\u001B[39;00m \u001B[38;5;28mlen\u001B[39m(\u001B[38;5;28mself\u001B[39m) \u001B[38;5;241m==\u001B[39m \u001B[38;5;241m1\u001B[39m:\n\u001B[0;32m    371\u001B[0m     \u001B[38;5;28;01mreturn\u001B[39;00m \u001B[38;5;28mnext\u001B[39m(\u001B[38;5;28miter\u001B[39m(\u001B[38;5;28mself\u001B[39m))\n\u001B[1;32m--> 372\u001B[0m \u001B[38;5;28;01mraise\u001B[39;00m \u001B[38;5;167;01mValueError\u001B[39;00m(\u001B[38;5;124m\"\u001B[39m\u001B[38;5;124mcan only convert an array of size 1 to a Python scalar\u001B[39m\u001B[38;5;124m\"\u001B[39m)\n",
      "\u001B[1;31mValueError\u001B[0m: can only convert an array of size 1 to a Python scalar"
     ]
    }
   ],
   "source": [
    "# 转换函数\n",
    "print(s5.astype('int32'))\n",
    "print(s5.convert_dtypes()) # 转换为支持pd.NA的最佳数据类型\n",
    "print(s5.to_numpy())\n",
    "print(s5.to_list())\n",
    "print(s5.item()) # 单值使用"
   ],
   "metadata": {
    "collapsed": false
   }
  },
  {
   "cell_type": "code",
   "execution_count": 38,
   "outputs": [
    {
     "name": "stdout",
     "output_type": "stream",
     "text": [
      "a    1\n",
      "b    2\n",
      "c    3\n",
      "d    4\n",
      "dtype: int64\n",
      "a    1\n",
      "b    2\n",
      "c    3\n",
      "dtype: int64\n",
      "a    1\n",
      "b    2\n",
      "c    3\n",
      "d    4\n",
      "dtype: int64\n",
      "a    1\n",
      "b    2\n",
      "c    3\n",
      "dtype: int64\n"
     ]
    }
   ],
   "source": [
    "# 增删改查\n",
    "s5['d'] = 4\n",
    "print(s5)\n",
    "\n",
    "s5.pop('d')\n",
    "print(s5)\n",
    "\n",
    "s5 = pd.concat([s5, pd.Series({'d': 4})])\n",
    "print(s5)\n",
    "\n",
    "del s5['d']\n",
    "print(s5)"
   ],
   "metadata": {
    "collapsed": false
   }
  }
 ],
 "metadata": {
  "kernelspec": {
   "display_name": "Python 3",
   "language": "python",
   "name": "python3"
  },
  "language_info": {
   "codemirror_mode": {
    "name": "ipython",
    "version": 2
   },
   "file_extension": ".py",
   "mimetype": "text/x-python",
   "name": "python",
   "nbconvert_exporter": "python",
   "pygments_lexer": "ipython2",
   "version": "2.7.6"
  }
 },
 "nbformat": 4,
 "nbformat_minor": 0
}
