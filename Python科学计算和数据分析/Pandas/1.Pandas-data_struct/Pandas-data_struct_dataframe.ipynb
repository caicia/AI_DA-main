{
 "cells": [
  {
   "cell_type": "code",
   "execution_count": 2,
   "metadata": {
    "collapsed": true
   },
   "outputs": [
    {
     "name": "stdout",
     "output_type": "stream",
     "text": [
      "2.1.0.dev0+203.g506fe537d7\n"
     ]
    }
   ],
   "source": [
    "import numpy as np\n",
    "import pyarrow\n",
    "# pandas 2.0\n",
    "# pip install --pre --extra-index https://pypi.anaconda.org/scipy-wheels-nightly/simple pandas\n",
    "# pip uninstall pandas -y\n",
    "import pandas as pd\n",
    "print(pd.__version__)\n",
    "pd.options.mode.copy_on_write = True"
   ]
  },
  {
   "cell_type": "code",
   "execution_count": 13,
   "outputs": [
    {
     "name": "stdout",
     "output_type": "stream",
     "text": [
      "   0  1  2\n",
      "0  1  2  3\n",
      "1  4  5  6\n",
      "0    int64\n",
      "1    int64\n",
      "2    int64\n",
      "dtype: object\n",
      "\n",
      "   0  1  2\n",
      "0  1  2  3\n",
      "1  4  5  6\n",
      "0    int32[pyarrow]\n",
      "1    int32[pyarrow]\n",
      "2    int32[pyarrow]\n",
      "dtype: object\n"
     ]
    }
   ],
   "source": [
    "df = pd.DataFrame([[1, 2, 3], [4, 5, 6]])\n",
    "print(df)\n",
    "print(df.dtypes)\n",
    "\n",
    "print()\n",
    "\n",
    "df = pd.DataFrame([[1, 2, 3], [4, 5, 6]], dtype='int32[pyarrow]')\n",
    "print(df)\n",
    "print(df.dtypes)"
   ],
   "metadata": {
    "collapsed": false
   }
  },
  {
   "cell_type": "code",
   "execution_count": 18,
   "outputs": [
    {
     "name": "stdout",
     "output_type": "stream",
     "text": [
      "2\n",
      "\n",
      "2\n"
     ]
    }
   ],
   "source": [
    "print(df.at[0, 1])\n",
    "print()\n",
    "print(df.loc[0, 1])"
   ],
   "metadata": {
    "collapsed": false
   }
  }
 ],
 "metadata": {
  "kernelspec": {
   "display_name": "Python 3",
   "language": "python",
   "name": "python3"
  },
  "language_info": {
   "codemirror_mode": {
    "name": "ipython",
    "version": 2
   },
   "file_extension": ".py",
   "mimetype": "text/x-python",
   "name": "python",
   "nbconvert_exporter": "python",
   "pygments_lexer": "ipython2",
   "version": "2.7.6"
  }
 },
 "nbformat": 4,
 "nbformat_minor": 0
}
